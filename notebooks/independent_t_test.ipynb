{
 "cells": [
  {
   "cell_type": "markdown",
   "metadata": {},
   "source": [
    "# Independent t-test"
   ]
  },
  {
   "cell_type": "markdown",
   "metadata": {},
   "source": [
    "The independent t-test, also called the two sample t-test, independent-samples t-test or student's t-test, is an inferential statistical test that determines whether there is a statistically significant difference between the means in two unrelated groups."
   ]
  },
  {
   "cell_type": "markdown",
   "metadata": {},
   "source": [
    "## Null and alternative hypotheses for the independent t-test\n",
    "\n",
    "The null hypothesis for the independent t-test is that the population means from the two unrelated groups are equal:\n",
    "\n",
    "$$H_0: \\mu_1 = \\mu_2$$\n",
    "\n",
    "In most cases, we are looking to see if we can show that we can reject the null hypothesis and accept the alternative hypothesis, which is that the population means are not equal:\n",
    "\n",
    "$$H_A: \\mu_1 \\neq \\mu_2$$\n",
    "\n",
    "To do this, we need to set a significance level (also called $\\alpha$) that allows us to either reject or accept the alternative hypothesis. Most commonly, this value is set at 0.05.\n",
    "\n"
   ]
  },
  {
   "cell_type": "markdown",
   "metadata": {},
   "source": [
    "## What do you need to run an independent t-test?\n",
    "\n",
    "In order to run an independent t-test, you need the following:\n",
    "\n",
    "One independent, categorical variable that has two levels/groups.\n",
    "One continuous dependent variable.\n"
   ]
  },
  {
   "cell_type": "markdown",
   "metadata": {},
   "source": [
    "## Assumptions\n",
    "\n",
    "### Normality\n",
    "\n",
    "The independent t-test requires that the dependent variable is approximately normally distributed within each group.\n",
    "\n",
    "\n",
    "You can test for this using a number of different tests, but the _Shapiro-Wilks_ test of normality or a graphical method, such as a _Q-Q Plot_, are very common.\n",
    "\n",
    "The t-test is described as a robust test with respect to the assumption of normality. This means that some deviation away from normality does not have a large influence on _Type I_ error rates. The exception to this is if the ratio of the smallest to largest group size is greater than 1.5 (largest compared to smallest).\n",
    "\n",
    "If you find that either one or both of your group's data is not approximately normally distributed and groups sizes differ greatly, you have two options: \n",
    "\n",
    "1. Transform your data so that the data becomes normally distributed.\n",
    "\n",
    "\n",
    "2. Run the _Mann-Whitney U test_ which is a non-parametric test that does not require the assumption of normality."
   ]
  },
  {
   "cell_type": "markdown",
   "metadata": {},
   "source": [
    "### Homogeneity of variance\n",
    "\n",
    "The independent t-test assumes the variances of the two groups you are measuring are equal in the population. If your variances are unequal, this can affect the _Type I_ error rate. The assumption of homogeneity of variance can be tested using _Levene's Test of Equality of Variance_.\n",
    "\n",
    "This test for homogeneity of variance provides an _F-statistic_ and a significance value (_p-value_). \n",
    "\n",
    "We are primarily concerned with the significance value – if it is greater than 0.05 (i.e., $p > 0.05$), our group variances can be treated as equal. \n",
    "\n",
    "However, if $p < 0.05$, we have unequal variances and we have violated the assumption of homogeneity of variances.\n",
    "\n",
    "If the _Levene's Test for Equality of Variances_ is statistically significant, which indicates that the group variances are unequal in the population, you can correct for this violation by not using the pooled estimate for the error term for the _t-statistic_, but instead using an adjustment to the degrees of freedom using the _Welch-Satterthwaite method_."
   ]
  },
  {
   "cell_type": "markdown",
   "metadata": {},
   "source": [
    "# How to perform a 2 sample t-test?\n"
   ]
  },
  {
   "cell_type": "markdown",
   "metadata": {},
   "source": [
    "Lets us say we have to test whether the height of men in the population is different from height of women in general. So we take a sample from the population and use the t-test to see if the result is significant.\n",
    "\n",
    "Steps:\n",
    "\n",
    "1. Determine a null and alternate hypothesis.\n",
    "In general, the null hypothesis will state that the two populations being tested have no statistically significant difference. The alternate hypothesis will state that there is one present. In this example we can say that:\n",
    "\n",
    "    * Null - \n",
    "    * Alternative - \n",
    "    "
   ]
  },
  {
   "cell_type": "markdown",
   "metadata": {},
   "source": [
    "2. Collect sample data\n",
    "Next step is to collect data for each population group. In our example we will collect 2 sets of data, one with the height of women and one with the height of men. The sample size should ideally be the same but it can be different. Lets say that the sample sizes are $n_1$ and $n_2$.\n"
   ]
  },
  {
   "cell_type": "markdown",
   "metadata": {},
   "source": [
    "3. Determine a confidence interval and degrees of freedom\n",
    "The typical value of $\\alpha$ is 0.05. This means that there is 95% confidence that the conclusion of this test will be valid. The degree of freedom can be calculated by the the following formula:\n",
    "\n",
    "\n",
    "$$ df = n_1 +n_2 -2$$"
   ]
  },
  {
   "cell_type": "markdown",
   "metadata": {},
   "source": [
    "4. Calculate the t-statistic\n",
    "t-statistic can be calculated using the below formula:\n",
    "\n",
    "    $$ t = \\frac{\\mu_1 - \\mu_2}{\\sqrt{\\frac{S^2_1}{n_1} - \\frac{S_2^2}{n_2}}} $$\n",
    "    \n",
    "    $$ S^2 = \\frac{\\sum (M-x)^2}{n-1}$$\n"
   ]
  },
  {
   "cell_type": "markdown",
   "metadata": {},
   "source": [
    "### References\n",
    "\n",
    "https://statistics.laerd.com/statistical-guides/independent-t-test-statistical-guide.php\n",
    "https://towardsdatascience.com/inferential-statistics-series-t-test-using-numpy-2718f8f9bf2f\n"
   ]
  }
 ],
 "metadata": {
  "kernelspec": {
   "display_name": "Python 2",
   "language": "python",
   "name": "python2"
  },
  "language_info": {
   "codemirror_mode": {
    "name": "ipython",
    "version": 2
   },
   "file_extension": ".py",
   "mimetype": "text/x-python",
   "name": "python",
   "nbconvert_exporter": "python",
   "pygments_lexer": "ipython2",
   "version": "2.7.6"
  }
 },
 "nbformat": 4,
 "nbformat_minor": 2
}
