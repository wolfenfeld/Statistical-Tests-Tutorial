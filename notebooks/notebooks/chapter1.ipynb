{
 "cells": [
  {
   "cell_type": "markdown",
   "metadata": {},
   "source": [
    "# Chapter 1"
   ]
  },
  {
   "cell_type": "markdown",
   "metadata": {},
   "source": [
    "|Comparison of means | Parametric (means) | Non-parametric (medians)|\n",
    "|--------------------|--------------------|--------------------|\n",
    "|Differences between the means of two independent groups | Independent t-test | Mann-Whitney test |\n",
    "|Differences between paired (matched) samples e.g. weight before and after a diet for each subject | Paired t-test |Wilcoxon signed rank test|\n",
    "|Differences in the means of 3+ independent groups for one variable|One-way ANOVA|Kruskal-Wallis test|\n",
    "|Differences between 3+ measurements on the same subject | Repeated Measures ANOVA\t|Friedman test|\n",
    "|Relationships between variables|Parametric|Non-parametric|\n",
    "|Strength of a relationship between 2 continuous variables|Pearson's Correlation Co-efficient|Spearman's Correlation co-efficient|\n",
    "|Predicting the value of one variable given the value of a predictor variable|Simple Linear Regression|\t\n",
    "|Assessing the relationship between two categorical variables.| |Chi-squared test|"
   ]
  }
 ],
 "metadata": {
  "kernelspec": {
   "display_name": "Python 2",
   "language": "python",
   "name": "python2"
  },
  "language_info": {
   "codemirror_mode": {
    "name": "ipython",
    "version": 2
   },
   "file_extension": ".py",
   "mimetype": "text/x-python",
   "name": "python",
   "nbconvert_exporter": "python",
   "pygments_lexer": "ipython2",
   "version": "2.7.6"
  }
 },
 "nbformat": 4,
 "nbformat_minor": 2
}
